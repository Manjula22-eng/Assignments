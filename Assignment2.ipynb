{
  "nbformat": 4,
  "nbformat_minor": 0,
  "metadata": {
    "colab": {
      "provenance": [],
      "authorship_tag": "ABX9TyMYWd4L7YlB5Y3xJi+4a/ca",
      "include_colab_link": true
    },
    "kernelspec": {
      "name": "python3",
      "display_name": "Python 3"
    },
    "language_info": {
      "name": "python"
    }
  },
  "cells": [
    {
      "cell_type": "markdown",
      "metadata": {
        "id": "view-in-github",
        "colab_type": "text"
      },
      "source": [
        "<a href=\"https://colab.research.google.com/github/Manjula22-eng/python/blob/main/Assignment2.ipynb\" target=\"_parent\"><img src=\"https://colab.research.google.com/assets/colab-badge.svg\" alt=\"Open In Colab\"/></a>"
      ]
    },
    {
      "cell_type": "code",
      "source": [
        "!pip install dronekit"
      ],
      "metadata": {
        "colab": {
          "base_uri": "https://localhost:8080/"
        },
        "id": "cfBZyrI9mwX5",
        "outputId": "ac4852b5-3a73-4160-c3f3-28c9f75c7429"
      },
      "execution_count": 2,
      "outputs": [
        {
          "output_type": "stream",
          "name": "stdout",
          "text": [
            "Collecting dronekit\n",
            "  Downloading dronekit-2.9.2-py3-none-any.whl.metadata (5.6 kB)\n",
            "Collecting pymavlink>=2.2.20 (from dronekit)\n",
            "  Downloading pymavlink-2.4.42-py3-none-any.whl.metadata (6.2 kB)\n",
            "Collecting monotonic>=1.3 (from dronekit)\n",
            "  Downloading monotonic-1.6-py2.py3-none-any.whl.metadata (1.5 kB)\n",
            "Requirement already satisfied: future in /usr/local/lib/python3.11/dist-packages (from pymavlink>=2.2.20->dronekit) (1.0.0)\n",
            "Requirement already satisfied: lxml in /usr/local/lib/python3.11/dist-packages (from pymavlink>=2.2.20->dronekit) (5.3.0)\n",
            "Downloading dronekit-2.9.2-py3-none-any.whl (56 kB)\n",
            "\u001b[2K   \u001b[90m━━━━━━━━━━━━━━━━━━━━━━━━━━━━━━━━━━━━━━━━\u001b[0m \u001b[32m56.9/56.9 kB\u001b[0m \u001b[31m2.2 MB/s\u001b[0m eta \u001b[36m0:00:00\u001b[0m\n",
            "\u001b[?25hDownloading monotonic-1.6-py2.py3-none-any.whl (8.2 kB)\n",
            "Downloading pymavlink-2.4.42-py3-none-any.whl (11.8 MB)\n",
            "\u001b[2K   \u001b[90m━━━━━━━━━━━━━━━━━━━━━━━━━━━━━━━━━━━━━━━━\u001b[0m \u001b[32m11.8/11.8 MB\u001b[0m \u001b[31m26.1 MB/s\u001b[0m eta \u001b[36m0:00:00\u001b[0m\n",
            "\u001b[?25hInstalling collected packages: monotonic, pymavlink, dronekit\n",
            "Successfully installed dronekit-2.9.2 monotonic-1.6 pymavlink-2.4.42\n"
          ]
        }
      ]
    },
    {
      "cell_type": "code",
      "source": [
        "from dronekit import connect, VehicleMode, LocationGlobalRelative, Command\n",
        "from pymavlink import mavutil\n",
        "import time\n",
        "import math\n",
        "import matplotlib.pyplot as plt\n",
        "\n",
        "# Connect to the drone (for SITL use '127.0.0.1:14550')\n",
        "vehicle = connect('127.0.0.1:14550', wait_ready=True)\n",
        "\n",
        "# Define 15 waypoints with lat, lon, and alt\n",
        "waypoints = [\n",
        "    {'lat': 47.3977, 'lon': 8.5456, 'alt': 10},\n",
        "    {'lat': 47.3978, 'lon': 8.5457, 'alt': 20},\n",
        "    {'lat': 47.3979, 'lon': 8.5458, 'alt': 30},\n",
        "    {'lat': 47.3980, 'lon': 8.5459, 'alt': 40},\n",
        "    {'lat': 47.3981, 'lon': 8.5460, 'alt': 50},\n",
        "    {'lat': 47.3982, 'lon': 8.5461, 'alt': 60},\n",
        "    {'lat': 47.3983, 'lon': 8.5462, 'alt': 70},\n",
        "    {'lat': 47.3984, 'lon': 8.5463, 'alt': 80},\n",
        "    {'lat': 47.3985, 'lon': 8.5464, 'alt': 90},\n",
        "    {'lat': 47.3986, 'lon': 8.5465, 'alt': 100},  # 10th waypoint\n",
        "]\n",
        "\n",
        "# Insert a perpendicular waypoint (100m offset in longitude)\n",
        "perpendicular_wp = {'lat': 47.3987, 'lon': 8.5475, 'alt': 100}\n",
        "waypoints.append(perpendicular_wp)\n",
        "\n",
        "# Add remaining waypoints\n",
        "waypoints += [\n",
        "    {'lat': 47.3988, 'lon': 8.5476, 'alt': 90},\n",
        "    {'lat': 47.3989, 'lon': 8.5477, 'alt': 80},\n",
        "    {'lat': 47.3990, 'lon': 8.5478, 'alt': 70},\n",
        "    {'lat': 47.3991, 'lon': 8.5479, 'alt': 0}  # Land here\n",
        "]\n",
        "\n",
        "# Upload mission to the drone\n",
        "cmds = vehicle.commands\n",
        "cmds.clear()\n",
        "\n",
        "for wp in waypoints:\n",
        "    cmds.add(Command(0, 0, 0, mavutil.mavlink.MAV_FRAME_GLOBAL_RELATIVE_ALT,\n",
        "                     mavutil.mavlink.MAV_CMD_NAV_WAYPOINT, 0, 0, 0, 0, 0, 0,\n",
        "                     wp['lat'], wp['lon'], wp['alt']))\n",
        "\n",
        "# Add landing command at final waypoint\n",
        "cmds.add(Command(0, 0, 0, mavutil.mavlink.MAV_FRAME_GLOBAL_RELATIVE_ALT,\n",
        "                 mavutil.mavlink.MAV_CMD_NAV_LAND, 0, 0, 0, 0, 0, 0,\n",
        "                 waypoints[-1]['lat'], waypoints[-1]['lon'], 0))\n",
        "\n",
        "cmds.upload()\n",
        "\n",
        "# Function to arm and take off\n",
        "def arm_and_takeoff(target_altitude):\n",
        "    vehicle.mode = VehicleMode(\"GUIDED\")\n",
        "    vehicle.armed = True\n",
        "    while not vehicle.armed:\n",
        "        time.sleep(1)\n",
        "\n",
        "    vehicle.simple_takeoff(target_altitude)\n",
        "\n",
        "    while vehicle.location.global_relative_frame.alt < target_altitude * 0.95:\n",
        "        time.sleep(1)\n",
        "\n",
        "arm_and_takeoff(10)\n",
        "\n",
        "# Start Mission\n",
        "vehicle.mode = VehicleMode(\"AUTO\")\n",
        "\n",
        "# Function to calculate distance between two points\n",
        "def calculate_distance(a, b):\n",
        "    return math.sqrt((a['lat'] - b['lat'])*2 + (a['lon'] - b['lon'])*2) * 111139  # Convert degrees to meters\n",
        "\n",
        "# Monitor mission progress\n",
        "for i, wp in enumerate(waypoints):\n",
        "    distance = calculate_distance(vehicle.location.global_relative_frame, wp)\n",
        "    time_estimate = distance / 5  # Assuming speed of 5 m/s\n",
        "    print(f\"Waypoint {i+1}: Distance = {distance:.2f} m, Estimated Time = {time_estimate:.2f} sec\")\n",
        "    time.sleep(2)\n",
        "\n",
        "# Land the drone\n",
        "vehicle.mode = VehicleMode(\"LAND\")\n",
        "\n",
        "# Plot the path in 2D\n",
        "plt.figure()\n",
        "lats = [wp['lat'] for wp in waypoints]\n",
        "lons = [wp['lon'] for wp in waypoints]\n",
        "plt.plot(lons, lats, marker='o')\n",
        "plt.xlabel(\"Longitude\")\n",
        "plt.ylabel(\"Latitude\")\n",
        "plt.title(\"2D Mission Path\")\n",
        "plt.show()\n",
        "\n",
        "vehicle.close()"
      ],
      "metadata": {
        "id": "qFsj1MZ1m5bw"
      },
      "execution_count": null,
      "outputs": []
    }
  ]
}